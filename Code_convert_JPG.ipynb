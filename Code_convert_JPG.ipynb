{
  "nbformat": 4,
  "nbformat_minor": 0,
  "metadata": {
    "colab": {
      "provenance": []
    },
    "kernelspec": {
      "name": "python3",
      "display_name": "Python 3"
    },
    "language_info": {
      "name": "python"
    }
  },
  "cells": [
    {
      "cell_type": "code",
      "execution_count": null,
      "metadata": {
        "id": "pDuBQGamfdfJ"
      },
      "outputs": [],
      "source": [
        "import cv2\n",
        "import os\n",
        "\n",
        "# Fungsi untuk mengonversi video ke gambar JPG setiap detik\n",
        "def convert_video_to_frames(video_path, output_folder):\n",
        "    # Buka video\n",
        "    cap = cv2.VideoCapture(video_path)\n",
        "\n",
        "    # Periksa apakah video terbuka dengan benar\n",
        "    if not cap.isOpened():\n",
        "        print(\"Gagal membuka video.\")\n",
        "        return\n",
        "\n",
        "    # Pastikan folder output ada atau buat jika belum ada\n",
        "    if not os.path.exists(output_folder):\n",
        "        os.makedirs(output_folder)\n",
        "\n",
        "    frame_rate = int(cap.get(5))  # Dapatkan kecepatan bingkai (frame rate) video\n",
        "    frame_count = 0\n",
        "\n",
        "    while True:\n",
        "        ret, frame = cap.read()\n",
        "\n",
        "        if not ret:\n",
        "            break\n",
        "\n",
        "        if frame_count % frame_rate == 0:\n",
        "            # Simpan frame sebagai gambar JPG\n",
        "            frame_name = f\"{output_folder}/malam_ss_S{frame_count // frame_rate}.jpg\"\n",
        "            cv2.imwrite(frame_name, frame)\n",
        "        frame_count == 100\n",
        "        frame_count += 1\n",
        "\n",
        "    cap.release()\n",
        "    cv2.destroyAllWindows()\n",
        "\n",
        "# Fungsi untuk mengumpulkan semua gambar JPG ke dalam satu folder\n",
        "def collect_frames_to_folder(input_folder, output_folder):\n",
        "    # Pastikan folder output ada atau buat jika belum ada\n",
        "    if not os.path.exists(output_folder):\n",
        "        os.makedirs(output_folder)\n",
        "\n",
        "    # Salin semua gambar dari input_folder ke output_folder\n",
        "    for filename in os.listdir(input_folder):\n",
        "        if filename.endswith(\".jpg\"):\n",
        "            src = os.path.join(input_folder, filename)\n",
        "            dst = os.path.join(output_folder, filename)\n",
        "            os.rename(src, dst)\n",
        "\n",
        "if __name__ == \"__main__\":\n",
        "    video_path = \"/content/2023-10-12 17-35-31.mp4\"  # Ganti dengan path video Anda\n",
        "    frames_folder = \"frames1\"  # Folder untuk menyimpan gambar JPG setiap detik\n",
        "    output_folder = \"output_frames1\"  # Folder untuk mengumpulkan semua gambar JPG\n",
        "\n",
        "    convert_video_to_frames(video_path, frames_folder)\n",
        "    collect_frames_to_folder(frames_folder, output_folder)\n"
      ]
    },
    {
      "cell_type": "code",
      "source": [
        "import os\n",
        "import zipfile\n",
        "\n",
        "# 1. Tentukan path folder yang ingin Anda kompres\n",
        "folder_path = '/content/output_frames1'\n",
        "\n",
        "# 2. Membaca isi file dalam folder\n",
        "def get_all_file_paths(directory):\n",
        "    file_paths = []\n",
        "    for root, directories, files in os.walk(directory):\n",
        "        for filename in files:\n",
        "            filepath = os.path.join(root, filename)\n",
        "            file_paths.append(filepath)\n",
        "    return file_paths\n",
        "\n",
        "# 3. Mengompres folder menjadi file ZIP\n",
        "def zip_folder(folder_path, output_zip_filename):\n",
        "    file_paths = get_all_file_paths(folder_path)\n",
        "    with zipfile.ZipFile(output_zip_filename, 'w', zipfile.ZIP_DEFLATED) as zipf:\n",
        "        for file in file_paths:\n",
        "            arcname = os.path.relpath(file, folder_path)\n",
        "            zipf.write(file, arcname)\n",
        "\n",
        "# Nama file ZIP yang akan disimpan\n",
        "output_zip_filename = '/content/2023-10-12 17-35-31.zip'\n",
        "\n",
        "# Mengompres folder ke dalam file ZIP\n",
        "zip_folder(folder_path, output_zip_filename)\n",
        "\n",
        "# 4. Menyimpan file ZIP di Google Colab\n",
        "print(f\"Folder telah diubah menjadi file ZIP: {output_zip_filename}\")\n"
      ],
      "metadata": {
        "id": "rWVz2fTjTiy5"
      },
      "execution_count": null,
      "outputs": []
    }
  ]
}